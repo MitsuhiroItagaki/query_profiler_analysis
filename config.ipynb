# 📁 SQL Profiler JSON File Path Configuration

# SQLProfiler JSON file (required)
JSON_FILE_PATH = '/Workspace/Shared/AutoSQLTuning/sample.json'

# Output file directory (required)
OUTPUT_FILE_DIR = './output'

# 🔍 EXPLAIN statement execution setting (EXPLAIN_ENABLED: 'Y' = execute, 'N' = do not execute)
EXPLAIN_ENABLED = 'Y'

# 🗂️ Catalog and database configuration (used when executing EXPLAIN statements)
CATALOG = 'tpcds'
DATABASE = 'tpcds_sf1000_delta_lc'

# 🌐 Output language setting (OUTPUT_LANGUAGE: 'ja' = Japanese, 'en' = English)
OUTPUT_LANGUAGE = 'en'

# 🐛 Debug mode setting (DEBUG_ENABLED: 'Y' = keep intermediate files, 'N' = keep final files only)
DEBUG_ENABLED = 'N'

# 🚀 Iterative optimization maximum attempt count settings (MAX_OPTIMIZATION_ATTEMPTS: default 3 times)
# 🔄 New design: Each attempt is clearly evaluated
# - 1st attempt (initial): Initial optimization query generation and performance verification
# - 2nd attempt (single_optimization): Refined optimization based on 1st attempt results
# - 3rd attempt+ (performance_improvement): Corrected query generation based on degradation cause analysis
# - When maximum attempts reached: Use original query
# Note: This is a separate parameter from syntax error correction (MAX_RETRIES)
MAX_OPTIMIZATION_ATTEMPTS = 3

# Ensure output directory exists
import os
if not os.path.exists(OUTPUT_FILE_DIR):
    os.makedirs(OUTPUT_FILE_DIR, exist_ok=True)
    print(f"📁 Created output directory: {OUTPUT_FILE_DIR}")
else:
    print(f"📁 Using output directory: {OUTPUT_FILE_DIR}")
