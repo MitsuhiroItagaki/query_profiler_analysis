{
  "cells": [
    {
      "cell_type": "code",
      "execution_count": null,
      "metadata": {},
      "outputs": [],
      "source": [
        "# Cell 1 - Introduction\n",
        "print(\"SQL Profiler Configuration Notebook\")"
      ]
    },
    {
      "cell_type": "code",
      "execution_count": null,
      "metadata": {},
      "outputs": [],
      "source": [
        "# Cell 2 - Placeholder\n",
        "pass"
      ]
    },
    {
      "cell_type": "code",
      "execution_count": null,
      "metadata": {},
      "outputs": [],
      "source": [
        "# Cell 3 - Placeholder\n",
        "pass"
      ]
    },
    {
      "cell_type": "code",
      "execution_count": null,
      "metadata": {},
      "outputs": [],
      "source": [
        "# \ud83d\udcc1 SQL Profiler JSON File Path Configuration\n",
        "\n",
        "# SQLProfiler JSON file (required)\n",
        "JSON_FILE_PATH = '/Workspace/Shared/AutoSQLTuning/sample.json'\n",
        "\n",
        "# Output file directory (required)\n",
        "OUTPUT_FILE_DIR = './output'\n",
        "\n",
        "# \ud83d\udd0d EXPLAIN statement execution setting (EXPLAIN_ENABLED: 'Y' = execute, 'N' = do not execute)\n",
        "EXPLAIN_ENABLED = 'Y'\n",
        "\n",
        "# \ud83d\uddc2\ufe0f Catalog and database configuration (used when executing EXPLAIN statements)\n",
        "CATALOG = 'tpcds'\n",
        "DATABASE = 'tpcds_sf1000_delta_lc'\n",
        "\n",
        "# \ud83c\udf10 Output language setting (OUTPUT_LANGUAGE: 'ja' = Japanese, 'en' = English)\n",
        "OUTPUT_LANGUAGE = 'en'\n",
        "\n",
        "# \ud83d\udc1b Debug mode setting (DEBUG_ENABLED: 'Y' = keep intermediate files, 'N' = keep final files only)\n",
        "DEBUG_ENABLED = 'N'\n",
        "\n",
        "# \ud83d\ude80 Iterative optimization maximum attempt count settings (MAX_OPTIMIZATION_ATTEMPTS: default 3 times)\n",
        "# \ud83d\udd04 New design: Each attempt is clearly evaluated\n",
        "# - 1st attempt (initial): Initial optimization query generation and performance verification\n",
        "# - 2nd attempt (single_optimization): Refined optimization based on 1st attempt results\n",
        "# - 3rd attempt+ (performance_improvement): Corrected query generation based on degradation cause analysis\n",
        "# - When maximum attempts reached: Use original query\n",
        "# Note: This is a separate parameter from syntax error correction (MAX_RETRIES)\n",
        "MAX_OPTIMIZATION_ATTEMPTS = 3\n",
        "\n",
        "# Ensure output directory exists\n",
        "import os\n",
        "if not os.path.exists(OUTPUT_FILE_DIR):\n",
        "    os.makedirs(OUTPUT_FILE_DIR, exist_ok=True)\n",
        "    print(f\"\ud83d\udcc1 Created output directory: {OUTPUT_FILE_DIR}\")\n",
        "else:\n",
        "    print(f\"\ud83d\udcc1 Using output directory: {OUTPUT_FILE_DIR}\")"
      ]
    }
  ],
  "metadata": {
    "kernelspec": {
      "display_name": "Python 3",
      "language": "python",
      "name": "python3"
    },
    "language_info": {
      "name": "python",
      "version": "3.8.0"
    }
  },
  "nbformat": 4,
  "nbformat_minor": 4
}